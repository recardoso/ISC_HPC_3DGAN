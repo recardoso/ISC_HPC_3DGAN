{
 "cells": [
  {
   "cell_type": "code",
   "execution_count": 1,
   "metadata": {},
   "outputs": [],
   "source": [
    "import boto3\n",
    "import statistics\n",
    "from matplotlib import pyplot as plt\n",
    "import numpy as np\n",
    "import pandas as pd\n",
    "from operator import itemgetter"
   ]
  },
  {
   "cell_type": "markdown",
   "metadata": {},
   "source": [
    "### Functions"
   ]
  },
  {
   "cell_type": "code",
   "execution_count": 2,
   "metadata": {},
   "outputs": [],
   "source": [
    "def get_epochs_for_tfjob(tfjob_name):\n",
    "    tfjob_epoch_objects = set()\n",
    "    client = boto3.client('s3', endpoint_url='https://s3.cern.ch')\n",
    "    for key in client.list_objects(Bucket='dejan')['Contents']:\n",
    "        if tfjob_name in key['Key']:\n",
    "            object_name = key['Key']\n",
    "            tfjob_epoch_objects.add(object_name)\n",
    "            \n",
    "    return tfjob_epoch_objects\n",
    "\n",
    "def parse_epoch_file(epoch_filename, client):\n",
    "    obj = client.get_object(Bucket='dejan', Key=epoch_filename)\n",
    "    lines = obj['Body'].read().decode()\n",
    "    lines_list = lines.split('\\n')\n",
    "\n",
    "    epoch_metrics = {}\n",
    "    epoch_metrics['batch_times'] = []\n",
    "    epoch_metrics['timestamp'] = epoch_filename[-23:-4]\n",
    "    for item in lines_list:\n",
    "        if item == '':\n",
    "            continue\n",
    "        \n",
    "        split_item = item.split('=')\n",
    "        metric_name = split_item[0]\n",
    "        metric_value = split_item[1]\n",
    "        \n",
    "        if 'time-batch' in metric_name:\n",
    "            epoch_metrics['batch_times'].append(metric_value)\n",
    "        else:\n",
    "            epoch_metrics[metric_name] = metric_value\n",
    "    \n",
    "    return epoch_metrics\n",
    "\n",
    "def filter_by(tfjob_info, name, filter_value):\n",
    "    res_dict = {}\n",
    "    for tfjob_id, tfjob_value in tfjob_info.items():\n",
    "        for key in tfjob_value.keys():\n",
    "            if key == name and tfjob_value[key] == filter_value:\n",
    "                res_dict[tfjob_id] = tfjob_value\n",
    "    \n",
    "    return res_dict\n",
    "\n",
    "def parse_tfjob_epoch_metrics(tfjobs_run_info, tfjob_ids, client):\n",
    "    for tfjob_id in tfjob_ids:\n",
    "        if not tfjob_id in tfjobs_run_info:\n",
    "            tfjobs_run_info[tfjob_id] = {}\n",
    "\n",
    "        tfjob_epochs = get_epochs_for_tfjob(tfjob_id)\n",
    "        tfjobs_run_info[tfjob_id]['epoch'] = {}\n",
    "        for epoch_filename in tfjob_epochs:\n",
    "            if 'params' in epoch_filename:\n",
    "                continue\n",
    "            \n",
    "            epoch_number = epoch_filename.split('epoch')[1].split('-')[1]\n",
    "            epoch_metrics = parse_epoch_file(epoch_filename, client)\n",
    "            \n",
    "            if 'batch-size-per-replica' in epoch_metrics.keys():\n",
    "                tfjobs_run_info[tfjob_id]['batch-size-per-replica'] = epoch_metrics['batch-size-per-replica']\n",
    "                del epoch_metrics['batch-size-per-replica']\n",
    "            if 'num_replicas_in_sync' in epoch_metrics.keys():\n",
    "                tfjobs_run_info[tfjob_id]['num_replicas_in_sync'] = epoch_metrics['num_replicas_in_sync']\n",
    "                del epoch_metrics['num_replicas_in_sync']\n",
    "            if 'n_workers' in epoch_metrics.keys():\n",
    "                tfjobs_run_info[tfjob_id]['n_workers'] = epoch_metrics['n_workers']\n",
    "                del epoch_metrics['n_workers']\n",
    "            \n",
    "            tfjobs_run_info[tfjob_id]['epoch'][epoch_number] = epoch_metrics\n",
    "            \n",
    "def get_metrics(tfjobs_run_info, metric_name):\n",
    "    metrics = []\n",
    "    for tfjob_id, tfjob_value in tfjobs_run_info.items():\n",
    "        metrics_job = []\n",
    "        for epoch_index in sorted(tfjob_value['epoch'].keys()):\n",
    "            metrics_job.append(tfjob_value['epoch'][epoch_index][metric_name])\n",
    "        metrics.append(metrics_job)\n",
    "        \n",
    "    return metrics\n",
    "\n",
    "def get_metrics_for_job(tfjobs_run_info, tfjob_id, metric_name):\n",
    "    metrics = []\n",
    "\n",
    "    for epoch_index in sorted(tfjobs_run_info[tfjob_id]['epoch'].keys()):\n",
    "        metrics.append(tfjobs_run_info[tfjob_id]['epoch'][epoch_index][metric_name])\n",
    "        \n",
    "    return metrics\n",
    "\n",
    "def get_average_from_index(lst, from_index=0):\n",
    "    float_list = []\n",
    "    for el in lst:\n",
    "        float_list.append(float(el))\n",
    "    return statistics.mean(float_list[from_index:])\n",
    "\n",
    "def make_json_single_layer(job_id, json_record):\n",
    "    result = {}\n",
    "    result['bucket_id'] = job_id\n",
    "    for key, value in json_record[job_id].items():\n",
    "        if key == 'epoch':\n",
    "            continue\n",
    "        result[key] = value\n",
    "    \n",
    "    result['n_epochs'] = len(json_record[job_id]['epoch'].keys())\n",
    "    total_train_time = 0\n",
    "    total_test_time = 0\n",
    "    \n",
    "    for epoch_n in sorted(json_record[job_id]['epoch'].keys()):\n",
    "        epoch_res = json_record[job_id]['epoch'][epoch_n]\n",
    "        if int(epoch_n) != 0:\n",
    "            total_train_time += float(json_record[job_id]['epoch'][epoch_n]['train-epoch-time'])\n",
    "            total_test_time += float(json_record[job_id]['epoch'][epoch_n]['test-epoch-time'])\n",
    "            \n",
    "        for metric_name, metric_value in epoch_res.items():\n",
    "            single_layer_key = 'epoch-' + str(epoch_n) + '_' + metric_name\n",
    "            result[single_layer_key] = metric_value\n",
    "    \n",
    "    result['average_train_time'] = round(total_train_time / (int(result['n_epochs']) - 1), 2)\n",
    "    result['average_test_time'] = round(total_test_time / (int(result['n_epochs']) - 1), 2)\n",
    "    \n",
    "    result_refined = {}\n",
    "    for key, value in result.items():\n",
    "        new_key = key.replace('-', '_')\n",
    "        result_refined[new_key] = value\n",
    "    \n",
    "    return result_refined\n",
    "\n",
    "def make_job_list_single_layer(job_dict):\n",
    "    result = []\n",
    "    for job_id in job_dict.keys():\n",
    "        json_single_layer = make_json_single_layer(job_id, job_dict)\n",
    "        result.append(json_single_layer)\n",
    "    return result\n",
    "\n",
    "def convert_json_to_pandas(json_record):\n",
    "    json_single_layer = make_job_list_single_layer(json_record)\n",
    "    df = pd.DataFrame(json_single_layer)\n",
    "    return df\n",
    "\n",
    "def add_jobs_info(jobs, key, value):\n",
    "    for job_key in jobs.keys():\n",
    "        jobs[job_key][key] = value\n",
    "        \n",
    "def get_metrics_for_all_epochs(df, metrics):\n",
    "    columns = [x for x in df.columns if metrics in x]\n",
    "    filtered_df = df[columns]\n",
    "    return filtered_df"
   ]
  },
  {
   "cell_type": "markdown",
   "metadata": {},
   "source": [
    "### Read Current Job\n",
    "\n",
    "Here, in the function get_tfjob_ids(client), we select a pattern to search for in a job name.\n",
    "\n",
    "In this case this line: if 'tfjob-id' in key['Key'] and ('12-16' in key['Key']):\n",
    "\n",
    "We are searching for all jobs done on on 12.16.\n",
    "This should be changed if looking for a job done at a later date."
   ]
  },
  {
   "cell_type": "code",
   "execution_count": 3,
   "metadata": {},
   "outputs": [],
   "source": [
    "def get_tfjob_ids(client):\n",
    "    tfjob_ids = set()\n",
    "    client = boto3.client('s3', endpoint_url='https://s3.cern.ch')\n",
    "    for key in client.list_objects(Bucket='dejan')['Contents']:\n",
    "        if 'tfjob-id' in key['Key'] and ('12-16' in key['Key']):\n",
    "            object_name = key['Key']\n",
    "            tf_job_id = object_name[9:45]\n",
    "            tfjob_ids.add(tf_job_id)\n",
    "            \n",
    "    return tfjob_ids\n",
    "\n",
    "def read_job():\n",
    "    client = boto3.client('s3', endpoint_url='https://s3.cern.ch')\n",
    "    tfjobs_run_info = {}\n",
    "    tfjob_ids = get_tfjob_ids(client)\n",
    "    parse_tfjob_epoch_metrics(tfjobs_run_info, tfjob_ids, client)\n",
    "    print(len(tfjobs_run_info.keys()))\n",
    "    \n",
    "    return tfjobs_run_info"
   ]
  },
  {
   "cell_type": "markdown",
   "metadata": {},
   "source": [
    "# Script"
   ]
  },
  {
   "cell_type": "code",
   "execution_count": 4,
   "metadata": {},
   "outputs": [
    {
     "name": "stdout",
     "output_type": "stream",
     "text": [
      "1\n",
      "1\n",
      "dict_keys(['8bfd84c0-1af3-4286-b4b9-06a35ec16542'])\n"
     ]
    }
   ],
   "source": [
    "current_jobs = read_job()\n",
    "print(len(current_jobs))\n",
    "print(current_jobs.keys())\n",
    "\n",
    "job_id = list(current_jobs.keys())[0]"
   ]
  },
  {
   "cell_type": "markdown",
   "metadata": {},
   "source": [
    "### Manually add info about the job"
   ]
  },
  {
   "cell_type": "code",
   "execution_count": 5,
   "metadata": {},
   "outputs": [],
   "source": [
    "add_jobs_info(current_jobs, 'device', 'gpu-v100')\n",
    "add_jobs_info(current_jobs, 'prefetch', 'yes')\n",
    "add_jobs_info(current_jobs, 'cache', 'no')\n",
    "add_jobs_info(current_jobs, 'nodes', '4')\n",
    "add_jobs_info(current_jobs, 'gpus_per_node', '8')"
   ]
  },
  {
   "cell_type": "markdown",
   "metadata": {},
   "source": [
    "### Convert json to pandas"
   ]
  },
  {
   "cell_type": "code",
   "execution_count": 6,
   "metadata": {},
   "outputs": [
    {
     "name": "stdout",
     "output_type": "stream",
     "text": [
      "1512\n"
     ]
    },
    {
     "data": {
      "text/html": [
       "<div>\n",
       "<style scoped>\n",
       "    .dataframe tbody tr th:only-of-type {\n",
       "        vertical-align: middle;\n",
       "    }\n",
       "\n",
       "    .dataframe tbody tr th {\n",
       "        vertical-align: top;\n",
       "    }\n",
       "\n",
       "    .dataframe thead th {\n",
       "        text-align: right;\n",
       "    }\n",
       "</style>\n",
       "<table border=\"1\" class=\"dataframe\">\n",
       "  <thead>\n",
       "    <tr style=\"text-align: right;\">\n",
       "      <th></th>\n",
       "      <th>average_test_time</th>\n",
       "      <th>average_train_time</th>\n",
       "      <th>batch_size_per_replica</th>\n",
       "      <th>bucket_id</th>\n",
       "      <th>cache</th>\n",
       "      <th>device</th>\n",
       "      <th>epoch_0_batch_size</th>\n",
       "      <th>epoch_0_batch_times</th>\n",
       "      <th>epoch_0_discriminator_test_binary_loss</th>\n",
       "      <th>epoch_0_discriminator_test_loss</th>\n",
       "      <th>...</th>\n",
       "      <th>epoch_9_generator_train_mean_loss_2</th>\n",
       "      <th>epoch_9_test_epoch_time</th>\n",
       "      <th>epoch_9_timestamp</th>\n",
       "      <th>epoch_9_train_epoch_time</th>\n",
       "      <th>gpus_per_node</th>\n",
       "      <th>n_epochs</th>\n",
       "      <th>n_workers</th>\n",
       "      <th>nodes</th>\n",
       "      <th>num_replicas_in_sync</th>\n",
       "      <th>prefetch</th>\n",
       "    </tr>\n",
       "  </thead>\n",
       "  <tbody>\n",
       "    <tr>\n",
       "      <th>0</th>\n",
       "      <td>6.5</td>\n",
       "      <td>138.19</td>\n",
       "      <td>32</td>\n",
       "      <td>8bfd84c0-1af3-4286-b4b9-06a35ec16542</td>\n",
       "      <td>no</td>\n",
       "      <td>gpu-v100</td>\n",
       "      <td>1024</td>\n",
       "      <td>[114.08285665512085, 1.1382486820220947, 1.135...</td>\n",
       "      <td>0.7883727285597059</td>\n",
       "      <td>35.76246325174967</td>\n",
       "      <td>...</td>\n",
       "      <td>13.393471121299463</td>\n",
       "      <td>6.263622045516968</td>\n",
       "      <td>2020-12-16-12:04:56</td>\n",
       "      <td>138.17525362968445</td>\n",
       "      <td>8</td>\n",
       "      <td>60</td>\n",
       "      <td>4</td>\n",
       "      <td>4</td>\n",
       "      <td>32</td>\n",
       "      <td>yes</td>\n",
       "    </tr>\n",
       "  </tbody>\n",
       "</table>\n",
       "<p>1 rows × 1512 columns</p>\n",
       "</div>"
      ],
      "text/plain": [
       "   average_test_time  average_train_time batch_size_per_replica  \\\n",
       "0                6.5              138.19                     32   \n",
       "\n",
       "                              bucket_id cache    device epoch_0_batch_size  \\\n",
       "0  8bfd84c0-1af3-4286-b4b9-06a35ec16542    no  gpu-v100               1024   \n",
       "\n",
       "                                 epoch_0_batch_times  \\\n",
       "0  [114.08285665512085, 1.1382486820220947, 1.135...   \n",
       "\n",
       "  epoch_0_discriminator_test_binary_loss epoch_0_discriminator_test_loss  ...  \\\n",
       "0                     0.7883727285597059               35.76246325174967  ...   \n",
       "\n",
       "  epoch_9_generator_train_mean_loss_2 epoch_9_test_epoch_time  \\\n",
       "0                  13.393471121299463       6.263622045516968   \n",
       "\n",
       "     epoch_9_timestamp epoch_9_train_epoch_time gpus_per_node n_epochs  \\\n",
       "0  2020-12-16-12:04:56       138.17525362968445             8       60   \n",
       "\n",
       "  n_workers nodes num_replicas_in_sync prefetch  \n",
       "0         4     4                   32      yes  \n",
       "\n",
       "[1 rows x 1512 columns]"
      ]
     },
     "execution_count": 6,
     "metadata": {},
     "output_type": "execute_result"
    }
   ],
   "source": [
    "df_current_jobs = convert_json_to_pandas(current_jobs)\n",
    "print(len(df_current_jobs.columns))\n",
    "df_current_jobs"
   ]
  },
  {
   "cell_type": "markdown",
   "metadata": {},
   "source": [
    "## Plot Metrics"
   ]
  },
  {
   "cell_type": "code",
   "execution_count": 7,
   "metadata": {},
   "outputs": [],
   "source": [
    "all_jobs_df = df_current_jobs"
   ]
  },
  {
   "cell_type": "code",
   "execution_count": 8,
   "metadata": {},
   "outputs": [
    {
     "data": {
      "image/png": "[encoded data removed]",
      "text/plain": [
       "<Figure size 432x288 with 1 Axes>"
      ]
     },
     "metadata": {
      "needs_background": "light"
     },
     "output_type": "display_data"
    },
    {
     "data": {
      "image/png": "[encoded data removed]",
      "text/plain": [
       "<Figure size 432x288 with 1 Axes>"
      ]
     },
     "metadata": {
      "needs_background": "light"
     },
     "output_type": "display_data"
    },
    {
     "data": {
      "image/png": "[encoded data removed]",
      "text/plain": [
       "<Figure size 432x288 with 1 Axes>"
      ]
     },
     "metadata": {
      "needs_background": "light"
     },
     "output_type": "display_data"
    },
    {
     "data": {
      "image/png": "[encoded data removed]",
      "text/plain": [
       "<Figure size 432x288 with 1 Axes>"
      ]
     },
     "metadata": {
      "needs_background": "light"
     },
     "output_type": "display_data"
    },
    {
     "data": {
      "text/plain": [
       "{'generator_train_loss': (52, 4.527950798878904),\n",
       " 'discriminator_train_loss': (54, 3.708467139572394),\n",
       " 'generator_train_binary_loss': (49, 0.8318598312758354),\n",
       " 'discriminator_train_binary_loss': (2, 0.5883555650059643)}"
      ]
     },
     "execution_count": 8,
     "metadata": {},
     "output_type": "execute_result"
    }
   ],
   "source": [
    "miniumum_metrics = {}\n",
    "for metrics in ['generator_train_loss', 'discriminator_train_loss', \\\n",
    "               'generator_train_binary_loss', 'discriminator_train_binary_loss']:\n",
    "    fig, ax = plt.subplots()\n",
    "    filtered_df = get_metrics_for_all_epochs(all_jobs_df, metrics)\n",
    "    row = list(filtered_df.iloc[0].astype(float))\n",
    "    rect = plt.plot(row)\n",
    "    plt.title(metrics)\n",
    "    plt.xlabel('Epoch Number')\n",
    "    plt.ylabel('Loss')\n",
    "    min_epoch, min_value = min(enumerate(row), key=itemgetter(1))\n",
    "    miniumum_metrics[metrics] = min_epoch, min_value\n",
    "    \n",
    "    ax.text(1.03, 0.9, 'Minimum:', ha='left', va='bottom', fontsize=12, transform=ax.transAxes)\n",
    "    ax.text(1.03, 0.8, 'Value: ' + str(round(min_value, 2)), ha='left', va='bottom', fontsize=10, transform=ax.transAxes)\n",
    "    ax.text(1.03, 0.75, 'Epoch: ' + str(min_epoch), ha='left', va='bottom', fontsize=10, transform=ax.transAxes)\n",
    "    plt.tight_layout()\n",
    "    #plt.savefig('results/' + job_id + '_' + metrics + '_after_' + str(len(row)) + '_epochs', dpi=150)\n",
    "    plt.show()\n",
    "    #filtered_df\n",
    "   \n",
    "miniumum_metrics"
   ]
  },
  {
   "cell_type": "markdown",
   "metadata": {},
   "source": [
    "## Read a file with all jobs so far and add info about the current job"
   ]
  },
  {
   "cell_type": "code",
   "execution_count": null,
   "metadata": {},
   "outputs": [],
   "source": [
    "all_jobs_df = pd.read_csv('tfjobs_runs.csv')\n",
    "print(len(all_jobs_df))\n",
    "#all_jobs_df = all_jobs_df.append([df_current_jobs])\n",
    "all_jobs_df.index = np.arange(1, len(all_jobs_df) + 1)\n",
    "print(len(all_jobs_df))\n",
    "all_jobs_df['num_replicas_in_sync'] = all_jobs_df['num_replicas_in_sync'].astype(str)\n",
    "all_jobs_df['batch_size_per_replica'] = all_jobs_df['batch_size_per_replica'].astype(str)\n",
    "\n",
    "reduced = all_jobs_df[['device','n_epochs','num_replicas_in_sync','n_workers','prefetch','cache','batch_size_per_replica',\n",
    "                       'average_train_time','average_test_time','nodes','gpus_per_node']]\n",
    "#reduced\n",
    "#all_jobs_df.to_csv('tfjobs_runs.csv', index=False)\n",
    "#reduced.to_csv('tfjobs_runs_reduced.csv', index=False)\n",
    "#reduced"
   ]
  },
  {
   "cell_type": "code",
   "execution_count": null,
   "metadata": {},
   "outputs": [],
   "source": []
  }
 ],
 "metadata": {
  "kernelspec": {
   "display_name": "Python 3",
   "language": "python",
   "name": "python3"
  },
  "language_info": {
   "codemirror_mode": {
    "name": "ipython",
    "version": 3
   },
   "file_extension": ".py",
   "mimetype": "text/x-python",
   "name": "python",
   "nbconvert_exporter": "python",
   "pygments_lexer": "ipython3",
   "version": "3.6.5"
  }
 },
 "nbformat": 4,
 "nbformat_minor": 4
}
